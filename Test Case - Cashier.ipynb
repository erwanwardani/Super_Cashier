{
 "cells": [
  {
   "cell_type": "code",
   "execution_count": 1,
   "id": "a6ff02fc",
   "metadata": {},
   "outputs": [],
   "source": [
    "from cashier import Transaction"
   ]
  },
  {
   "cell_type": "code",
   "execution_count": 2,
   "id": "997dd0b0",
   "metadata": {},
   "outputs": [],
   "source": [
    "cashier = Transaction()"
   ]
  },
  {
   "cell_type": "markdown",
   "id": "12b4c1d3",
   "metadata": {},
   "source": [
    "## Test Case 1: Add Items"
   ]
  },
  {
   "cell_type": "code",
   "execution_count": 3,
   "id": "1cf31795",
   "metadata": {},
   "outputs": [
    {
     "name": "stdout",
     "output_type": "stream",
     "text": [
      "Purchased items: {'Ayam Goreng': [2, 20000], 'Pasta Gigi': [3, 15000]}\n"
     ]
    }
   ],
   "source": [
    "cashier.add_items(\"Ayam Goreng\",2,20_000)\n",
    "cashier.add_items(\"Pasta Gigi\",3,15_000)\n",
    "\n",
    "print(f\"Purchased items: {cashier.orders}\")"
   ]
  },
  {
   "cell_type": "markdown",
   "id": "2d065353",
   "metadata": {},
   "source": [
    "## Test Case 2: Delete item"
   ]
  },
  {
   "cell_type": "code",
   "execution_count": 4,
   "id": "2b0721f5",
   "metadata": {},
   "outputs": [
    {
     "name": "stdout",
     "output_type": "stream",
     "text": [
      "Purchased items: {'Ayam Goreng': [2, 20000]}\n"
     ]
    }
   ],
   "source": [
    "cashier.delete_item(\"Pasta Gigi\")\n",
    "\n",
    "print(f\"Purchased items: {cashier.orders}\")"
   ]
  },
  {
   "cell_type": "markdown",
   "id": "c7caf4a2",
   "metadata": {},
   "source": [
    "## Test Case 3: Reset Transaction"
   ]
  },
  {
   "cell_type": "code",
   "execution_count": 5,
   "id": "865d89f7",
   "metadata": {},
   "outputs": [
    {
     "name": "stdout",
     "output_type": "stream",
     "text": [
      "All transactions were successfully deleted.\n"
     ]
    }
   ],
   "source": [
    "cashier.reset_transaction()"
   ]
  },
  {
   "cell_type": "markdown",
   "id": "7cab6e9f",
   "metadata": {},
   "source": [
    "## Test Case 4: Total Price"
   ]
  },
  {
   "cell_type": "code",
   "execution_count": 6,
   "id": "01a1f6b8",
   "metadata": {},
   "outputs": [
    {
     "name": "stdout",
     "output_type": "stream",
     "text": [
      "Purchased items: {'Ayam Goreng': [2, 20000], 'Pasta Gigi': [3, 15000], 'Mainan Mobil': [1, 200000], 'Mi Instan': [5, 3000]}\n",
      "Your total transactions: Rp. 300000\n",
      "Your total transactions are more than 200000.\n",
      "Congrats! You got 5% discount\n",
      "Amount transactions you have to pay: Rp. 285000.0 \n"
     ]
    }
   ],
   "source": [
    "# Add items\n",
    "cashier.add_items(\"Ayam Goreng\",2,20_000)\n",
    "cashier.add_items(\"Pasta Gigi\",3,15_000)\n",
    "cashier.add_items(\"Mainan Mobil\",1,200_000)\n",
    "cashier.add_items(\"Mi Instan\",5,3_000)\n",
    "\n",
    "# Show purchased items\n",
    "print(f\"Purchased items: {cashier.orders}\")\n",
    "\n",
    "# Calculate total price\n",
    "cashier.total_price()"
   ]
  },
  {
   "cell_type": "markdown",
   "id": "cf63a16b",
   "metadata": {},
   "source": [
    "## Test Case 5: Check Order"
   ]
  },
  {
   "cell_type": "code",
   "execution_count": 7,
   "id": "7f38e5bb",
   "metadata": {},
   "outputs": [
    {
     "name": "stdout",
     "output_type": "stream",
     "text": [
      "| Item Name    |   Item Qty |   Item Price |\n",
      "|--------------|------------|--------------|\n",
      "| Ayam Goreng  |          2 |        20000 |\n",
      "| Pasta Gigi   |          3 |        15000 |\n",
      "| Mainan Mobil |          1 |       200000 |\n",
      "| Mi Instan    |          5 |         3000 |\n",
      "Transaction are valid.\n"
     ]
    }
   ],
   "source": [
    "# Check order\n",
    "cashier.check_orders()"
   ]
  },
  {
   "cell_type": "code",
   "execution_count": 8,
   "id": "f1d97a56",
   "metadata": {},
   "outputs": [
    {
     "name": "stdout",
     "output_type": "stream",
     "text": [
      "All transactions were successfully deleted.\n",
      "| Item Name   | Item Qty   | Item Price   |\n",
      "|-------------|------------|--------------|\n",
      "There is no transaction.\n",
      "Transaction invalid. Please recheck transaction.\n"
     ]
    }
   ],
   "source": [
    "# Check order after reset all transactions\n",
    "cashier.reset_transaction()\n",
    "cashier.check_orders()\n"
   ]
  },
  {
   "cell_type": "markdown",
   "id": "69a9e4dc",
   "metadata": {},
   "source": [
    "## Test Case 6: Update Item's Information"
   ]
  },
  {
   "cell_type": "code",
   "execution_count": 9,
   "id": "857748df",
   "metadata": {},
   "outputs": [
    {
     "name": "stdout",
     "output_type": "stream",
     "text": [
      "Purchased items: {'Ayam Goreng': [2, 20000], 'Pasta Gigi': [3, 15000], 'Mainan Mobil': [1, 200000], 'Mi Instan': [5, 3000]}\n"
     ]
    }
   ],
   "source": [
    "# Add items\n",
    "cashier.add_items(\"Ayam Goreng\",2,20_000)\n",
    "cashier.add_items(\"Pasta Gigi\",3,15_000)\n",
    "cashier.add_items(\"Mainan Mobil\",1,200_000)\n",
    "cashier.add_items(\"Mi Instan\",5,3_000)\n",
    "\n",
    "# Show purchased items\n",
    "print(f\"Purchased items: {cashier.orders}\")"
   ]
  },
  {
   "cell_type": "code",
   "execution_count": 10,
   "id": "b7cfbb7c",
   "metadata": {},
   "outputs": [
    {
     "name": "stdout",
     "output_type": "stream",
     "text": [
      "Purchased items: {'Ayam Goreng': [2, 20000], 'Pasta Gigi': [3, 15000], 'Mainan Mobil': [1, 200000], 'Bubur Instan': [10, 5000]}\n"
     ]
    }
   ],
   "source": [
    "# Update name, price, and qty of Mi Instan\n",
    "cashier.update_item_name(\"Mi Instan\", \"Bubur Instan\")\n",
    "cashier.update_item_price(\"Bubur Instan\", 5_000)\n",
    "cashier.update_item_qty(\"Bubur Instan\", 10)\n",
    "\n",
    "# Show purchased items\n",
    "print(f\"Purchased items: {cashier.orders}\")"
   ]
  }
 ],
 "metadata": {
  "kernelspec": {
   "display_name": "Python 3 (ipykernel)",
   "language": "python",
   "name": "python3"
  },
  "language_info": {
   "codemirror_mode": {
    "name": "ipython",
    "version": 3
   },
   "file_extension": ".py",
   "mimetype": "text/x-python",
   "name": "python",
   "nbconvert_exporter": "python",
   "pygments_lexer": "ipython3",
   "version": "3.9.12"
  }
 },
 "nbformat": 4,
 "nbformat_minor": 5
}
